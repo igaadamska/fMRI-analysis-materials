{
 "cells": [
  {
   "cell_type": "markdown",
   "metadata": {},
   "source": [
    "# Data frames manipulation with pandas"
   ]
  },
  {
   "cell_type": "markdown",
   "metadata": {},
   "source": [
    "[pandas](https://pandas.pydata.org/) -  fast, powerful, flexible and easy to use open source data analysis and manipulation tool,\n",
    "built on top of the Python programming language.\n",
    "\n",
    "----------------\n"
   ]
  },
  {
   "cell_type": "code",
   "execution_count": 2,
   "metadata": {},
   "outputs": [],
   "source": [
    "## Load libraries\n",
    "import pandas as pd\n",
    "import matplotlib.pyplot as plt"
   ]
  },
  {
   "cell_type": "markdown",
   "metadata": {},
   "source": [
    "## 1. Load & plot confounds variables \n",
    "\n",
    "**Confounds** (or *nuisance regressors*) are variables representing fluctuations with a potential non-neuronal origin. \n",
    "\n",
    "Confounding variables calculated by [fMRIPrep](https://fmriprep.readthedocs.io/en/stable/outputs.html#confounds) are stored separately for each subject, session and run in TSV files - one column for each confound variable. "
   ]
  },
  {
   "cell_type": "code",
   "execution_count": 5,
   "metadata": {},
   "outputs": [
    {
     "data": {
      "text/html": [
       "<div>\n",
       "<style scoped>\n",
       "    .dataframe tbody tr th:only-of-type {\n",
       "        vertical-align: middle;\n",
       "    }\n",
       "\n",
       "    .dataframe tbody tr th {\n",
       "        vertical-align: top;\n",
       "    }\n",
       "\n",
       "    .dataframe thead th {\n",
       "        text-align: right;\n",
       "    }\n",
       "</style>\n",
       "<table border=\"1\" class=\"dataframe\">\n",
       "  <thead>\n",
       "    <tr style=\"text-align: right;\">\n",
       "      <th></th>\n",
       "      <th>CSF</th>\n",
       "      <th>WhiteMatter</th>\n",
       "      <th>GlobalSignal</th>\n",
       "      <th>stdDVARS</th>\n",
       "      <th>non-stdDVARS</th>\n",
       "      <th>vx-wisestdDVARS</th>\n",
       "      <th>FramewiseDisplacement</th>\n",
       "      <th>tCompCor00</th>\n",
       "      <th>tCompCor01</th>\n",
       "      <th>tCompCor02</th>\n",
       "      <th>...</th>\n",
       "      <th>AROMAAggrComp29</th>\n",
       "      <th>AROMAAggrComp35</th>\n",
       "      <th>AROMAAggrComp36</th>\n",
       "      <th>AROMAAggrComp42</th>\n",
       "      <th>AROMAAggrComp45</th>\n",
       "      <th>AROMAAggrComp46</th>\n",
       "      <th>AROMAAggrComp50</th>\n",
       "      <th>AROMAAggrComp51</th>\n",
       "      <th>AROMAAggrComp53</th>\n",
       "      <th>AROMAAggrComp54</th>\n",
       "    </tr>\n",
       "  </thead>\n",
       "  <tbody>\n",
       "    <tr>\n",
       "      <th>0</th>\n",
       "      <td>4715.346067</td>\n",
       "      <td>4909.426273</td>\n",
       "      <td>4862.612041</td>\n",
       "      <td>NaN</td>\n",
       "      <td>NaN</td>\n",
       "      <td>NaN</td>\n",
       "      <td>NaN</td>\n",
       "      <td>-0.059217</td>\n",
       "      <td>0.062892</td>\n",
       "      <td>-0.013710</td>\n",
       "      <td>...</td>\n",
       "      <td>1.062466</td>\n",
       "      <td>-1.569555</td>\n",
       "      <td>1.346532</td>\n",
       "      <td>-1.293528</td>\n",
       "      <td>-0.519630</td>\n",
       "      <td>-0.242345</td>\n",
       "      <td>-0.885939</td>\n",
       "      <td>-0.933226</td>\n",
       "      <td>0.079566</td>\n",
       "      <td>-0.261299</td>\n",
       "    </tr>\n",
       "    <tr>\n",
       "      <th>1</th>\n",
       "      <td>4717.920970</td>\n",
       "      <td>4900.866223</td>\n",
       "      <td>4853.728164</td>\n",
       "      <td>0.943263</td>\n",
       "      <td>15.010096</td>\n",
       "      <td>0.864449</td>\n",
       "      <td>0.079526</td>\n",
       "      <td>0.006799</td>\n",
       "      <td>0.039018</td>\n",
       "      <td>-0.022991</td>\n",
       "      <td>...</td>\n",
       "      <td>-0.289283</td>\n",
       "      <td>-0.822666</td>\n",
       "      <td>1.080866</td>\n",
       "      <td>0.765488</td>\n",
       "      <td>-1.162383</td>\n",
       "      <td>0.196090</td>\n",
       "      <td>-0.770284</td>\n",
       "      <td>-0.441885</td>\n",
       "      <td>-0.098900</td>\n",
       "      <td>0.525687</td>\n",
       "    </tr>\n",
       "    <tr>\n",
       "      <th>2</th>\n",
       "      <td>4725.817590</td>\n",
       "      <td>4907.646585</td>\n",
       "      <td>4860.376132</td>\n",
       "      <td>1.103134</td>\n",
       "      <td>17.554121</td>\n",
       "      <td>0.925185</td>\n",
       "      <td>0.090839</td>\n",
       "      <td>0.052704</td>\n",
       "      <td>-0.009987</td>\n",
       "      <td>0.123641</td>\n",
       "      <td>...</td>\n",
       "      <td>-0.841782</td>\n",
       "      <td>-1.616199</td>\n",
       "      <td>0.853288</td>\n",
       "      <td>-1.369633</td>\n",
       "      <td>-0.219267</td>\n",
       "      <td>-0.840327</td>\n",
       "      <td>0.293680</td>\n",
       "      <td>-1.459476</td>\n",
       "      <td>-2.189689</td>\n",
       "      <td>-0.283386</td>\n",
       "    </tr>\n",
       "    <tr>\n",
       "      <th>3</th>\n",
       "      <td>4716.867299</td>\n",
       "      <td>4907.365030</td>\n",
       "      <td>4852.321888</td>\n",
       "      <td>1.123165</td>\n",
       "      <td>17.872868</td>\n",
       "      <td>0.929857</td>\n",
       "      <td>0.088307</td>\n",
       "      <td>0.021223</td>\n",
       "      <td>-0.018306</td>\n",
       "      <td>0.113884</td>\n",
       "      <td>...</td>\n",
       "      <td>0.644177</td>\n",
       "      <td>-1.817780</td>\n",
       "      <td>1.318560</td>\n",
       "      <td>0.058877</td>\n",
       "      <td>-2.458908</td>\n",
       "      <td>-1.961658</td>\n",
       "      <td>-1.967909</td>\n",
       "      <td>-2.838033</td>\n",
       "      <td>0.913620</td>\n",
       "      <td>1.216556</td>\n",
       "    </tr>\n",
       "    <tr>\n",
       "      <th>4</th>\n",
       "      <td>4696.405244</td>\n",
       "      <td>4906.668756</td>\n",
       "      <td>4846.569808</td>\n",
       "      <td>1.056746</td>\n",
       "      <td>16.815956</td>\n",
       "      <td>0.946065</td>\n",
       "      <td>0.093996</td>\n",
       "      <td>-0.098909</td>\n",
       "      <td>0.000380</td>\n",
       "      <td>-0.024023</td>\n",
       "      <td>...</td>\n",
       "      <td>0.393395</td>\n",
       "      <td>-0.643666</td>\n",
       "      <td>0.644899</td>\n",
       "      <td>0.273928</td>\n",
       "      <td>0.031010</td>\n",
       "      <td>-0.709323</td>\n",
       "      <td>-0.322162</td>\n",
       "      <td>-0.922096</td>\n",
       "      <td>0.527810</td>\n",
       "      <td>0.738223</td>\n",
       "    </tr>\n",
       "  </tbody>\n",
       "</table>\n",
       "<p>5 rows × 50 columns</p>\n",
       "</div>"
      ],
      "text/plain": [
       "           CSF  WhiteMatter  GlobalSignal  stdDVARS  non-stdDVARS  \\\n",
       "0  4715.346067  4909.426273   4862.612041       NaN           NaN   \n",
       "1  4717.920970  4900.866223   4853.728164  0.943263     15.010096   \n",
       "2  4725.817590  4907.646585   4860.376132  1.103134     17.554121   \n",
       "3  4716.867299  4907.365030   4852.321888  1.123165     17.872868   \n",
       "4  4696.405244  4906.668756   4846.569808  1.056746     16.815956   \n",
       "\n",
       "   vx-wisestdDVARS  FramewiseDisplacement  tCompCor00  tCompCor01  tCompCor02  \\\n",
       "0              NaN                    NaN   -0.059217    0.062892   -0.013710   \n",
       "1         0.864449               0.079526    0.006799    0.039018   -0.022991   \n",
       "2         0.925185               0.090839    0.052704   -0.009987    0.123641   \n",
       "3         0.929857               0.088307    0.021223   -0.018306    0.113884   \n",
       "4         0.946065               0.093996   -0.098909    0.000380   -0.024023   \n",
       "\n",
       "   ...  AROMAAggrComp29  AROMAAggrComp35  AROMAAggrComp36  AROMAAggrComp42  \\\n",
       "0  ...         1.062466        -1.569555         1.346532        -1.293528   \n",
       "1  ...        -0.289283        -0.822666         1.080866         0.765488   \n",
       "2  ...        -0.841782        -1.616199         0.853288        -1.369633   \n",
       "3  ...         0.644177        -1.817780         1.318560         0.058877   \n",
       "4  ...         0.393395        -0.643666         0.644899         0.273928   \n",
       "\n",
       "   AROMAAggrComp45  AROMAAggrComp46  AROMAAggrComp50  AROMAAggrComp51  \\\n",
       "0        -0.519630        -0.242345        -0.885939        -0.933226   \n",
       "1        -1.162383         0.196090        -0.770284        -0.441885   \n",
       "2        -0.219267        -0.840327         0.293680        -1.459476   \n",
       "3        -2.458908        -1.961658        -1.967909        -2.838033   \n",
       "4         0.031010        -0.709323        -0.322162        -0.922096   \n",
       "\n",
       "   AROMAAggrComp53  AROMAAggrComp54  \n",
       "0         0.079566        -0.261299  \n",
       "1        -0.098900         0.525687  \n",
       "2        -2.189689        -0.283386  \n",
       "3         0.913620         1.216556  \n",
       "4         0.527810         0.738223  \n",
       "\n",
       "[5 rows x 50 columns]"
      ]
     },
     "execution_count": 5,
     "metadata": {},
     "output_type": "execute_result"
    }
   ],
   "source": [
    "# Load data\n",
    "\n",
    "confounds_path = \"data/sub-01_ses-1_task-rest_bold_confounds.tsv\"\n",
    "confounds = pd.read_csv(confounds_path, delimiter=\"\\t\")\n",
    "\n",
    "# Print first 5 rows of data\n",
    "confounds.head()"
   ]
  },
  {
   "cell_type": "code",
   "execution_count": 6,
   "metadata": {},
   "outputs": [
    {
     "name": "stdout",
     "output_type": "stream",
     "text": [
      "Index(['CSF', 'WhiteMatter', 'GlobalSignal', 'stdDVARS', 'non-stdDVARS',\n",
      "       'vx-wisestdDVARS', 'FramewiseDisplacement', 'tCompCor00', 'tCompCor01',\n",
      "       'tCompCor02', 'tCompCor03', 'tCompCor04', 'tCompCor05', 'aCompCor00',\n",
      "       'aCompCor01', 'aCompCor02', 'aCompCor03', 'aCompCor04', 'aCompCor05',\n",
      "       'Cosine00', 'Cosine01', 'Cosine02', 'Cosine03', 'Cosine04', 'Cosine05',\n",
      "       'Cosine06', 'Cosine07', 'X', 'Y', 'Z', 'RotX', 'RotY', 'RotZ',\n",
      "       'AROMAAggrComp03', 'AROMAAggrComp10', 'AROMAAggrComp12',\n",
      "       'AROMAAggrComp14', 'AROMAAggrComp19', 'AROMAAggrComp20',\n",
      "       'AROMAAggrComp25', 'AROMAAggrComp29', 'AROMAAggrComp35',\n",
      "       'AROMAAggrComp36', 'AROMAAggrComp42', 'AROMAAggrComp45',\n",
      "       'AROMAAggrComp46', 'AROMAAggrComp50', 'AROMAAggrComp51',\n",
      "       'AROMAAggrComp53', 'AROMAAggrComp54'],\n",
      "      dtype='object')\n"
     ]
    }
   ],
   "source": [
    "# Print column names\n",
    "\n",
    "print(confounds.columns)"
   ]
  },
  {
   "cell_type": "code",
   "execution_count": 9,
   "metadata": {},
   "outputs": [
    {
     "data": {
      "text/plain": [
       "<matplotlib.legend.Legend at 0x7fec009a0828>"
      ]
     },
     "execution_count": 9,
     "metadata": {},
     "output_type": "execute_result"
    },
    {
     "data": {
      "image/png": "[encoded data removed]",
      "text/plain": [
       "<Figure size 432x288 with 1 Axes>"
      ]
     },
     "metadata": {
      "needs_background": "light"
     },
     "output_type": "display_data"
    }
   ],
   "source": [
    "# Plot mean timeseries from cerebrospinal fluid (CSF) and white matter \n",
    "\n",
    "plt.plot(confounds[\"CSF\"])\n",
    "plt.plot(confounds[\"WhiteMatter\"])\n",
    "plt.legend([\"CSF\", \"WhiteMatter\"])"
   ]
  },
  {
   "cell_type": "code",
   "execution_count": 10,
   "metadata": {},
   "outputs": [
    {
     "data": {
      "text/plain": [
       "<matplotlib.collections.PathCollection at 0x7fec03dfd278>"
      ]
     },
     "execution_count": 10,
     "metadata": {},
     "output_type": "execute_result"
    },
    {
     "data": {
      "image/png": "[encoded data removed]",
      "text/plain": [
       "<Figure size 432x288 with 1 Axes>"
      ]
     },
     "metadata": {
      "needs_background": "light"
     },
     "output_type": "display_data"
    }
   ],
   "source": [
    "# Plot cerebrospinal fluid (CSF) and white matter timeseries on a scatterplot\n",
    "\n",
    "plt.scatter(confounds[\"CSF\"], confounds[\"WhiteMatter\"])"
   ]
  },
  {
   "cell_type": "code",
   "execution_count": 12,
   "metadata": {},
   "outputs": [
    {
     "data": {
      "text/plain": [
       "<seaborn.axisgrid.JointGrid at 0x7febf78b3710>"
      ]
     },
     "execution_count": 12,
     "metadata": {},
     "output_type": "execute_result"
    },
    {
     "data": {
      "image/png": "[encoded data removed]",
      "text/plain": [
       "<Figure size 432x432 with 3 Axes>"
      ]
     },
     "metadata": {
      "needs_background": "light"
     },
     "output_type": "display_data"
    }
   ],
   "source": [
    "# Plot cerebrospinal fluid (CSF) and white matter timeseries on a scatterplot (use seaborn joint plot)\n",
    "import seaborn as sns\n",
    "\n",
    "sns.jointplot(confounds[\"CSF\"], confounds[\"WhiteMatter\"], kind=\"reg\")"
   ]
  },
  {
   "cell_type": "markdown",
   "metadata": {},
   "source": [
    "## 2. Load and plot COVID-19 data\n",
    "\n",
    "Download data:\n",
    "[COVID-19](http://shinyapps.org/apps/corona/) (check out their GH)"
   ]
  },
  {
   "cell_type": "code",
   "execution_count": 14,
   "metadata": {},
   "outputs": [
    {
     "data": {
      "text/html": [
       "<div>\n",
       "<style scoped>\n",
       "    .dataframe tbody tr th:only-of-type {\n",
       "        vertical-align: middle;\n",
       "    }\n",
       "\n",
       "    .dataframe tbody tr th {\n",
       "        vertical-align: top;\n",
       "    }\n",
       "\n",
       "    .dataframe thead th {\n",
       "        text-align: right;\n",
       "    }\n",
       "</style>\n",
       "<table border=\"1\" class=\"dataframe\">\n",
       "  <thead>\n",
       "    <tr style=\"text-align: right;\">\n",
       "      <th></th>\n",
       "      <th>Province/State</th>\n",
       "      <th>Country/Region</th>\n",
       "      <th>Lat</th>\n",
       "      <th>Long</th>\n",
       "      <th>1/22/20</th>\n",
       "      <th>1/23/20</th>\n",
       "      <th>1/24/20</th>\n",
       "      <th>1/25/20</th>\n",
       "      <th>1/26/20</th>\n",
       "      <th>1/27/20</th>\n",
       "      <th>...</th>\n",
       "      <th>3/16/20</th>\n",
       "      <th>3/17/20</th>\n",
       "      <th>3/18/20</th>\n",
       "      <th>3/19/20</th>\n",
       "      <th>3/20/20</th>\n",
       "      <th>3/21/20</th>\n",
       "      <th>3/22/20</th>\n",
       "      <th>3/23/20</th>\n",
       "      <th>3/24/20</th>\n",
       "      <th>3/25/20</th>\n",
       "    </tr>\n",
       "  </thead>\n",
       "  <tbody>\n",
       "    <tr>\n",
       "      <th>0</th>\n",
       "      <td>NaN</td>\n",
       "      <td>Afghanistan</td>\n",
       "      <td>33.0000</td>\n",
       "      <td>65.0000</td>\n",
       "      <td>0</td>\n",
       "      <td>0</td>\n",
       "      <td>0</td>\n",
       "      <td>0</td>\n",
       "      <td>0</td>\n",
       "      <td>0</td>\n",
       "      <td>...</td>\n",
       "      <td>21</td>\n",
       "      <td>22</td>\n",
       "      <td>22</td>\n",
       "      <td>22</td>\n",
       "      <td>24</td>\n",
       "      <td>24</td>\n",
       "      <td>40</td>\n",
       "      <td>40</td>\n",
       "      <td>74</td>\n",
       "      <td>84</td>\n",
       "    </tr>\n",
       "    <tr>\n",
       "      <th>1</th>\n",
       "      <td>NaN</td>\n",
       "      <td>Albania</td>\n",
       "      <td>41.1533</td>\n",
       "      <td>20.1683</td>\n",
       "      <td>0</td>\n",
       "      <td>0</td>\n",
       "      <td>0</td>\n",
       "      <td>0</td>\n",
       "      <td>0</td>\n",
       "      <td>0</td>\n",
       "      <td>...</td>\n",
       "      <td>51</td>\n",
       "      <td>55</td>\n",
       "      <td>59</td>\n",
       "      <td>64</td>\n",
       "      <td>70</td>\n",
       "      <td>76</td>\n",
       "      <td>89</td>\n",
       "      <td>104</td>\n",
       "      <td>123</td>\n",
       "      <td>146</td>\n",
       "    </tr>\n",
       "    <tr>\n",
       "      <th>2</th>\n",
       "      <td>NaN</td>\n",
       "      <td>Algeria</td>\n",
       "      <td>28.0339</td>\n",
       "      <td>1.6596</td>\n",
       "      <td>0</td>\n",
       "      <td>0</td>\n",
       "      <td>0</td>\n",
       "      <td>0</td>\n",
       "      <td>0</td>\n",
       "      <td>0</td>\n",
       "      <td>...</td>\n",
       "      <td>54</td>\n",
       "      <td>60</td>\n",
       "      <td>74</td>\n",
       "      <td>87</td>\n",
       "      <td>90</td>\n",
       "      <td>139</td>\n",
       "      <td>201</td>\n",
       "      <td>230</td>\n",
       "      <td>264</td>\n",
       "      <td>302</td>\n",
       "    </tr>\n",
       "    <tr>\n",
       "      <th>3</th>\n",
       "      <td>NaN</td>\n",
       "      <td>Andorra</td>\n",
       "      <td>42.5063</td>\n",
       "      <td>1.5218</td>\n",
       "      <td>0</td>\n",
       "      <td>0</td>\n",
       "      <td>0</td>\n",
       "      <td>0</td>\n",
       "      <td>0</td>\n",
       "      <td>0</td>\n",
       "      <td>...</td>\n",
       "      <td>2</td>\n",
       "      <td>39</td>\n",
       "      <td>39</td>\n",
       "      <td>53</td>\n",
       "      <td>75</td>\n",
       "      <td>88</td>\n",
       "      <td>113</td>\n",
       "      <td>133</td>\n",
       "      <td>164</td>\n",
       "      <td>188</td>\n",
       "    </tr>\n",
       "    <tr>\n",
       "      <th>4</th>\n",
       "      <td>NaN</td>\n",
       "      <td>Angola</td>\n",
       "      <td>-11.2027</td>\n",
       "      <td>17.8739</td>\n",
       "      <td>0</td>\n",
       "      <td>0</td>\n",
       "      <td>0</td>\n",
       "      <td>0</td>\n",
       "      <td>0</td>\n",
       "      <td>0</td>\n",
       "      <td>...</td>\n",
       "      <td>0</td>\n",
       "      <td>0</td>\n",
       "      <td>0</td>\n",
       "      <td>0</td>\n",
       "      <td>1</td>\n",
       "      <td>2</td>\n",
       "      <td>2</td>\n",
       "      <td>3</td>\n",
       "      <td>3</td>\n",
       "      <td>3</td>\n",
       "    </tr>\n",
       "  </tbody>\n",
       "</table>\n",
       "<p>5 rows × 68 columns</p>\n",
       "</div>"
      ],
      "text/plain": [
       "  Province/State Country/Region      Lat     Long  1/22/20  1/23/20  1/24/20  \\\n",
       "0            NaN    Afghanistan  33.0000  65.0000        0        0        0   \n",
       "1            NaN        Albania  41.1533  20.1683        0        0        0   \n",
       "2            NaN        Algeria  28.0339   1.6596        0        0        0   \n",
       "3            NaN        Andorra  42.5063   1.5218        0        0        0   \n",
       "4            NaN         Angola -11.2027  17.8739        0        0        0   \n",
       "\n",
       "   1/25/20  1/26/20  1/27/20  ...  3/16/20  3/17/20  3/18/20  3/19/20  \\\n",
       "0        0        0        0  ...       21       22       22       22   \n",
       "1        0        0        0  ...       51       55       59       64   \n",
       "2        0        0        0  ...       54       60       74       87   \n",
       "3        0        0        0  ...        2       39       39       53   \n",
       "4        0        0        0  ...        0        0        0        0   \n",
       "\n",
       "   3/20/20  3/21/20  3/22/20  3/23/20  3/24/20  3/25/20  \n",
       "0       24       24       40       40       74       84  \n",
       "1       70       76       89      104      123      146  \n",
       "2       90      139      201      230      264      302  \n",
       "3       75       88      113      133      164      188  \n",
       "4        1        2        2        3        3        3  \n",
       "\n",
       "[5 rows x 68 columns]"
      ]
     },
     "execution_count": 14,
     "metadata": {},
     "output_type": "execute_result"
    }
   ],
   "source": [
    "# Load some COVID-19 data\n",
    "covid_path = \"data/CSSE_confirmed_2020-03-26.csv\"\n",
    "covid = pd.read_csv(covid_path)\n",
    "\n",
    "# Print first 5 rows of data\n",
    "covid.head()"
   ]
  },
  {
   "cell_type": "code",
   "execution_count": 16,
   "metadata": {},
   "outputs": [
    {
     "data": {
      "text/html": [
       "<div>\n",
       "<style scoped>\n",
       "    .dataframe tbody tr th:only-of-type {\n",
       "        vertical-align: middle;\n",
       "    }\n",
       "\n",
       "    .dataframe tbody tr th {\n",
       "        vertical-align: top;\n",
       "    }\n",
       "\n",
       "    .dataframe thead th {\n",
       "        text-align: right;\n",
       "    }\n",
       "</style>\n",
       "<table border=\"1\" class=\"dataframe\">\n",
       "  <thead>\n",
       "    <tr style=\"text-align: right;\">\n",
       "      <th></th>\n",
       "      <th>Lat</th>\n",
       "      <th>Long</th>\n",
       "      <th>1/22/20</th>\n",
       "      <th>1/23/20</th>\n",
       "      <th>1/24/20</th>\n",
       "      <th>1/25/20</th>\n",
       "      <th>1/26/20</th>\n",
       "      <th>1/27/20</th>\n",
       "      <th>1/28/20</th>\n",
       "      <th>1/29/20</th>\n",
       "      <th>...</th>\n",
       "      <th>3/16/20</th>\n",
       "      <th>3/17/20</th>\n",
       "      <th>3/18/20</th>\n",
       "      <th>3/19/20</th>\n",
       "      <th>3/20/20</th>\n",
       "      <th>3/21/20</th>\n",
       "      <th>3/22/20</th>\n",
       "      <th>3/23/20</th>\n",
       "      <th>3/24/20</th>\n",
       "      <th>3/25/20</th>\n",
       "    </tr>\n",
       "    <tr>\n",
       "      <th>Country/Region</th>\n",
       "      <th></th>\n",
       "      <th></th>\n",
       "      <th></th>\n",
       "      <th></th>\n",
       "      <th></th>\n",
       "      <th></th>\n",
       "      <th></th>\n",
       "      <th></th>\n",
       "      <th></th>\n",
       "      <th></th>\n",
       "      <th></th>\n",
       "      <th></th>\n",
       "      <th></th>\n",
       "      <th></th>\n",
       "      <th></th>\n",
       "      <th></th>\n",
       "      <th></th>\n",
       "      <th></th>\n",
       "      <th></th>\n",
       "      <th></th>\n",
       "      <th></th>\n",
       "    </tr>\n",
       "  </thead>\n",
       "  <tbody>\n",
       "    <tr>\n",
       "      <th>Afghanistan</th>\n",
       "      <td>33.0000</td>\n",
       "      <td>65.0000</td>\n",
       "      <td>0</td>\n",
       "      <td>0</td>\n",
       "      <td>0</td>\n",
       "      <td>0</td>\n",
       "      <td>0</td>\n",
       "      <td>0</td>\n",
       "      <td>0</td>\n",
       "      <td>0</td>\n",
       "      <td>...</td>\n",
       "      <td>21</td>\n",
       "      <td>22</td>\n",
       "      <td>22</td>\n",
       "      <td>22</td>\n",
       "      <td>24</td>\n",
       "      <td>24</td>\n",
       "      <td>40</td>\n",
       "      <td>40</td>\n",
       "      <td>74</td>\n",
       "      <td>84</td>\n",
       "    </tr>\n",
       "    <tr>\n",
       "      <th>Albania</th>\n",
       "      <td>41.1533</td>\n",
       "      <td>20.1683</td>\n",
       "      <td>0</td>\n",
       "      <td>0</td>\n",
       "      <td>0</td>\n",
       "      <td>0</td>\n",
       "      <td>0</td>\n",
       "      <td>0</td>\n",
       "      <td>0</td>\n",
       "      <td>0</td>\n",
       "      <td>...</td>\n",
       "      <td>51</td>\n",
       "      <td>55</td>\n",
       "      <td>59</td>\n",
       "      <td>64</td>\n",
       "      <td>70</td>\n",
       "      <td>76</td>\n",
       "      <td>89</td>\n",
       "      <td>104</td>\n",
       "      <td>123</td>\n",
       "      <td>146</td>\n",
       "    </tr>\n",
       "    <tr>\n",
       "      <th>Algeria</th>\n",
       "      <td>28.0339</td>\n",
       "      <td>1.6596</td>\n",
       "      <td>0</td>\n",
       "      <td>0</td>\n",
       "      <td>0</td>\n",
       "      <td>0</td>\n",
       "      <td>0</td>\n",
       "      <td>0</td>\n",
       "      <td>0</td>\n",
       "      <td>0</td>\n",
       "      <td>...</td>\n",
       "      <td>54</td>\n",
       "      <td>60</td>\n",
       "      <td>74</td>\n",
       "      <td>87</td>\n",
       "      <td>90</td>\n",
       "      <td>139</td>\n",
       "      <td>201</td>\n",
       "      <td>230</td>\n",
       "      <td>264</td>\n",
       "      <td>302</td>\n",
       "    </tr>\n",
       "    <tr>\n",
       "      <th>Andorra</th>\n",
       "      <td>42.5063</td>\n",
       "      <td>1.5218</td>\n",
       "      <td>0</td>\n",
       "      <td>0</td>\n",
       "      <td>0</td>\n",
       "      <td>0</td>\n",
       "      <td>0</td>\n",
       "      <td>0</td>\n",
       "      <td>0</td>\n",
       "      <td>0</td>\n",
       "      <td>...</td>\n",
       "      <td>2</td>\n",
       "      <td>39</td>\n",
       "      <td>39</td>\n",
       "      <td>53</td>\n",
       "      <td>75</td>\n",
       "      <td>88</td>\n",
       "      <td>113</td>\n",
       "      <td>133</td>\n",
       "      <td>164</td>\n",
       "      <td>188</td>\n",
       "    </tr>\n",
       "    <tr>\n",
       "      <th>Angola</th>\n",
       "      <td>-11.2027</td>\n",
       "      <td>17.8739</td>\n",
       "      <td>0</td>\n",
       "      <td>0</td>\n",
       "      <td>0</td>\n",
       "      <td>0</td>\n",
       "      <td>0</td>\n",
       "      <td>0</td>\n",
       "      <td>0</td>\n",
       "      <td>0</td>\n",
       "      <td>...</td>\n",
       "      <td>0</td>\n",
       "      <td>0</td>\n",
       "      <td>0</td>\n",
       "      <td>0</td>\n",
       "      <td>1</td>\n",
       "      <td>2</td>\n",
       "      <td>2</td>\n",
       "      <td>3</td>\n",
       "      <td>3</td>\n",
       "      <td>3</td>\n",
       "    </tr>\n",
       "  </tbody>\n",
       "</table>\n",
       "<p>5 rows × 66 columns</p>\n",
       "</div>"
      ],
      "text/plain": [
       "                    Lat     Long  1/22/20  1/23/20  1/24/20  1/25/20  1/26/20  \\\n",
       "Country/Region                                                                  \n",
       "Afghanistan     33.0000  65.0000        0        0        0        0        0   \n",
       "Albania         41.1533  20.1683        0        0        0        0        0   \n",
       "Algeria         28.0339   1.6596        0        0        0        0        0   \n",
       "Andorra         42.5063   1.5218        0        0        0        0        0   \n",
       "Angola         -11.2027  17.8739        0        0        0        0        0   \n",
       "\n",
       "                1/27/20  1/28/20  1/29/20  ...  3/16/20  3/17/20  3/18/20  \\\n",
       "Country/Region                             ...                              \n",
       "Afghanistan           0        0        0  ...       21       22       22   \n",
       "Albania               0        0        0  ...       51       55       59   \n",
       "Algeria               0        0        0  ...       54       60       74   \n",
       "Andorra               0        0        0  ...        2       39       39   \n",
       "Angola                0        0        0  ...        0        0        0   \n",
       "\n",
       "                3/19/20  3/20/20  3/21/20  3/22/20  3/23/20  3/24/20  3/25/20  \n",
       "Country/Region                                                                 \n",
       "Afghanistan          22       24       24       40       40       74       84  \n",
       "Albania              64       70       76       89      104      123      146  \n",
       "Algeria              87       90      139      201      230      264      302  \n",
       "Andorra              53       75       88      113      133      164      188  \n",
       "Angola                0        1        2        2        3        3        3  \n",
       "\n",
       "[5 rows x 66 columns]"
      ]
     },
     "execution_count": 16,
     "metadata": {},
     "output_type": "execute_result"
    }
   ],
   "source": [
    "# Group by country & sum cases\n",
    "covid_grouped = covid.groupby(\"Country/Region\").sum()\n",
    "covid_grouped.head()"
   ]
  },
  {
   "cell_type": "code",
   "execution_count": 20,
   "metadata": {},
   "outputs": [
    {
     "name": "stdout",
     "output_type": "stream",
     "text": [
      "[0.000e+00 0.000e+00 0.000e+00 0.000e+00 0.000e+00 0.000e+00 0.000e+00\n",
      " 0.000e+00 0.000e+00 0.000e+00 0.000e+00 0.000e+00 0.000e+00 0.000e+00\n",
      " 0.000e+00 0.000e+00 0.000e+00 0.000e+00 0.000e+00 0.000e+00 0.000e+00\n",
      " 0.000e+00 0.000e+00 0.000e+00 0.000e+00 0.000e+00 0.000e+00 0.000e+00\n",
      " 0.000e+00 0.000e+00 0.000e+00 0.000e+00 0.000e+00 0.000e+00 0.000e+00\n",
      " 0.000e+00 0.000e+00 0.000e+00 0.000e+00 0.000e+00 0.000e+00 0.000e+00\n",
      " 1.000e+00 1.000e+00 5.000e+00 5.000e+00 1.100e+01 1.600e+01 2.200e+01\n",
      " 3.100e+01 4.900e+01 6.800e+01 1.030e+02 1.190e+02 1.770e+02 2.380e+02\n",
      " 2.510e+02 3.550e+02 4.250e+02 5.360e+02 6.340e+02 7.490e+02 9.010e+02\n",
      " 1.051e+03]\n"
     ]
    }
   ],
   "source": [
    "# Filter dataframe by cases in Poland\n",
    "poland = covid_grouped.loc[\"Poland\"].values[2:]\n",
    "print(poland)"
   ]
  },
  {
   "cell_type": "code",
   "execution_count": 21,
   "metadata": {},
   "outputs": [
    {
     "data": {
      "text/plain": [
       "[<matplotlib.lines.Line2D at 0x7febf639e898>]"
      ]
     },
     "execution_count": 21,
     "metadata": {},
     "output_type": "execute_result"
    },
    {
     "data": {
      "image/png": "[encoded data removed]",
      "text/plain": [
       "<Figure size 432x288 with 1 Axes>"
      ]
     },
     "metadata": {
      "needs_background": "light"
     },
     "output_type": "display_data"
    }
   ],
   "source": [
    "# Plot cases in Poland\n",
    "plt.plot(poland)\n"
   ]
  },
  {
   "cell_type": "code",
   "execution_count": 22,
   "metadata": {},
   "outputs": [
    {
     "name": "stdout",
     "output_type": "stream",
     "text": [
      "[0.0000e+00 0.0000e+00 0.0000e+00 0.0000e+00 0.0000e+00 0.0000e+00\n",
      " 0.0000e+00 0.0000e+00 0.0000e+00 0.0000e+00 1.0000e+00 1.0000e+00\n",
      " 1.0000e+00 1.0000e+00 1.0000e+00 1.0000e+00 1.0000e+00 1.0000e+00\n",
      " 2.0000e+00 2.0000e+00 2.0000e+00 2.0000e+00 2.0000e+00 2.0000e+00\n",
      " 2.0000e+00 2.0000e+00 2.0000e+00 2.0000e+00 2.0000e+00 2.0000e+00\n",
      " 2.0000e+00 2.0000e+00 2.0000e+00 2.0000e+00 6.0000e+00 1.3000e+01\n",
      " 1.5000e+01 3.2000e+01 4.5000e+01 8.4000e+01 1.2000e+02 1.6500e+02\n",
      " 2.2200e+02 2.5900e+02 4.0000e+02 5.0000e+02 6.7300e+02 1.0730e+03\n",
      " 1.6950e+03 2.2770e+03 2.2770e+03 5.2320e+03 6.3910e+03 7.7980e+03\n",
      " 9.9420e+03 1.1748e+04 1.3910e+04 1.7963e+04 2.0410e+04 2.5374e+04\n",
      " 2.8768e+04 3.5136e+04 3.9885e+04 4.9515e+04]\n"
     ]
    }
   ],
   "source": [
    "# Plot cases in other country\n",
    "spain = covid_grouped.loc[\"Spain\"].values[2:]\n",
    "print(spain)\n"
   ]
  },
  {
   "cell_type": "code",
   "execution_count": 26,
   "metadata": {},
   "outputs": [
    {
     "data": {
      "text/plain": [
       "<matplotlib.legend.Legend at 0x7febf5a392b0>"
      ]
     },
     "execution_count": 26,
     "metadata": {},
     "output_type": "execute_result"
    },
    {
     "data": {
      "image/png": "[encoded data removed]",
      "text/plain": [
       "<Figure size 432x288 with 1 Axes>"
      ]
     },
     "metadata": {
      "needs_background": "light"
     },
     "output_type": "display_data"
    }
   ],
   "source": [
    "# Plot cases of multiple countries on a one plot (loop)\n",
    "\n",
    "countries = [\"Poland\", \"Germany\", \"Spain\", \"US\"]\n",
    "\n",
    "for country in countries:\n",
    "    cases = covid_grouped.loc[country].values[2:]\n",
    "    plt.plot(cases)\n",
    "plt.legend(countries)"
   ]
  },
  {
   "cell_type": "code",
   "execution_count": 28,
   "metadata": {},
   "outputs": [
    {
     "data": {
      "image/png": "[encoded data removed]",
      "text/plain": [
       "<Figure size 432x288 with 1 Axes>"
      ]
     },
     "metadata": {
      "needs_background": "light"
     },
     "output_type": "display_data"
    }
   ],
   "source": [
    "# Function example\n",
    "\n",
    "def plot_cases_by_country(data, countries=[]):\n",
    "    for country in countries:\n",
    "        cases = data.loc[country].values[2:]\n",
    "        plt.plot(cases)\n",
    "    plt.legend(countries)\n",
    "    \n",
    "    \n",
    "plot_cases_by_country(covid_grouped, countries=[\"Poland\", \"Germany\", \"Spain\", \"US\", \"Italy\"])"
   ]
  }
 ],
 "metadata": {
  "kernelspec": {
   "display_name": "Python 3",
   "language": "python",
   "name": "python3"
  },
  "language_info": {
   "codemirror_mode": {
    "name": "ipython",
    "version": 3
   },
   "file_extension": ".py",
   "mimetype": "text/x-python",
   "name": "python",
   "nbconvert_exporter": "python",
   "pygments_lexer": "ipython3",
   "version": "3.7.3"
  }
 },
 "nbformat": 4,
 "nbformat_minor": 2
}
